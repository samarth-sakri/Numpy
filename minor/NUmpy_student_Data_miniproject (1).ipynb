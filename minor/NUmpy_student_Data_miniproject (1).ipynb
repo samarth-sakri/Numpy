{
  "nbformat": 4,
  "nbformat_minor": 0,
  "metadata": {
    "colab": {
      "provenance": []
    },
    "kernelspec": {
      "name": "python3",
      "display_name": "Python 3"
    },
    "language_info": {
      "name": "python"
    }
  },
  "cells": [
    {
      "cell_type": "markdown",
      "source": [
        "**Mini project on student Data using numpy only**"
      ],
      "metadata": {
        "id": "a9h9GHUkblSu"
      }
    },
    {
      "cell_type": "markdown",
      "source": [
        "#Mini Project-"
      ],
      "metadata": {
        "id": "jUdo5kkPSFHc"
      }
    },
    {
      "cell_type": "code",
      "source": [
        "import numpy as np"
      ],
      "metadata": {
        "id": "PAN7WWV1T_xX"
      },
      "execution_count": null,
      "outputs": []
    },
    {
      "cell_type": "markdown",
      "source": [
        "Q1-Create suitable arrays to represent students, subjects, and their marks"
      ],
      "metadata": {
        "id": "WCPRu09Cb0ft"
      }
    },
    {
      "cell_type": "code",
      "source": [
        "std_dt=np.array([80,87,89,87,96,78,79,76,96,80,81,89])\n",
        "std_dt"
      ],
      "metadata": {
        "colab": {
          "base_uri": "https://localhost:8080/"
        },
        "id": "5Z5XIM5DSMAk",
        "outputId": "a5589202-e9d7-4224-b587-23df6bb4e6c0"
      },
      "execution_count": null,
      "outputs": [
        {
          "output_type": "execute_result",
          "data": {
            "text/plain": [
              "array([80, 87, 89, 87, 96, 78, 79, 76, 96, 80, 81, 89])"
            ]
          },
          "metadata": {},
          "execution_count": 11
        }
      ]
    },
    {
      "cell_type": "markdown",
      "source": [
        "Q2-Explore the properties of these arrays - such a dimension, size , structure"
      ],
      "metadata": {
        "id": "bEpa7_zdcN2p"
      }
    },
    {
      "cell_type": "code",
      "source": [
        "print(std_dt.ndim)\n",
        "print(std_dt.size)\n",
        "print(std_dt.shape)"
      ],
      "metadata": {
        "colab": {
          "base_uri": "https://localhost:8080/"
        },
        "id": "FQkH9kedUjHS",
        "outputId": "d3cc5695-fb9e-420d-d846-39e6d949482b"
      },
      "execution_count": null,
      "outputs": [
        {
          "output_type": "stream",
          "name": "stdout",
          "text": [
            "1\n",
            "12\n",
            "(12,)\n"
          ]
        }
      ]
    },
    {
      "cell_type": "markdown",
      "source": [
        "Q3-Perform necessary reshaping and reorganization of the data to suit various operations"
      ],
      "metadata": {
        "id": "WwuvKS4scYwV"
      }
    },
    {
      "cell_type": "code",
      "source": [
        "#Q3 reshaping data\n",
        "arr2=std_dt.reshape((3,4))\n",
        "arr2"
      ],
      "metadata": {
        "colab": {
          "base_uri": "https://localhost:8080/"
        },
        "id": "FJ-gzX5IT14n",
        "outputId": "9f9ad8c0-ed1e-499c-f4ba-309e86803b92"
      },
      "execution_count": null,
      "outputs": [
        {
          "output_type": "execute_result",
          "data": {
            "text/plain": [
              "array([[80, 87, 89, 87],\n",
              "       [96, 78, 79, 76],\n",
              "       [96, 80, 81, 89]])"
            ]
          },
          "metadata": {},
          "execution_count": 4
        }
      ]
    },
    {
      "cell_type": "markdown",
      "source": [
        "Q4- Merge or split arrays to simulate adding nre students , new subjects,or organizing the dataset"
      ],
      "metadata": {
        "id": "O6Ezllc5cjXU"
      }
    },
    {
      "cell_type": "code",
      "source": [
        "#Q4 adding data\n",
        "new_d=np.array([67,87,97,73])"
      ],
      "metadata": {
        "id": "jlfw4h-jUQb6"
      },
      "execution_count": null,
      "outputs": []
    },
    {
      "cell_type": "code",
      "source": [
        "#Q4 merging data\n",
        "new_std_data=np.vstack((arr2,new_d))\n",
        "new_std_data"
      ],
      "metadata": {
        "colab": {
          "base_uri": "https://localhost:8080/"
        },
        "id": "lLpcU74sVJsn",
        "outputId": "ae83c259-6860-4218-e053-58c200a29588"
      },
      "execution_count": null,
      "outputs": [
        {
          "output_type": "execute_result",
          "data": {
            "text/plain": [
              "array([[80, 87, 89, 87],\n",
              "       [96, 78, 79, 76],\n",
              "       [96, 80, 81, 89],\n",
              "       [67, 87, 97, 73]])"
            ]
          },
          "metadata": {},
          "execution_count": 6
        }
      ]
    },
    {
      "cell_type": "markdown",
      "source": [
        "Q5- Apply operations to update marks ,remove data, identity unique information"
      ],
      "metadata": {
        "id": "ApUVaaN2c2yp"
      }
    },
    {
      "cell_type": "code",
      "source": [
        "#Q5 update marks\n",
        "new_std_data[1,2]=87\n",
        "new_std_data"
      ],
      "metadata": {
        "colab": {
          "base_uri": "https://localhost:8080/"
        },
        "id": "C7kaEDYfVVK9",
        "outputId": "8db2123c-20f6-4950-f422-77765850cc2e"
      },
      "execution_count": null,
      "outputs": [
        {
          "output_type": "execute_result",
          "data": {
            "text/plain": [
              "array([[80, 87, 89, 87],\n",
              "       [96, 78, 87, 76],\n",
              "       [96, 80, 81, 89],\n",
              "       [67, 87, 97, 73]])"
            ]
          },
          "metadata": {},
          "execution_count": 7
        }
      ]
    },
    {
      "cell_type": "code",
      "source": [
        "#Q5 Remove data\n",
        "new_data=np.delete(new_std_data,4)\n",
        "new_data"
      ],
      "metadata": {
        "colab": {
          "base_uri": "https://localhost:8080/"
        },
        "id": "we89IxhrYahm",
        "outputId": "5bfafde7-cee6-4843-bec7-121beb1413bf"
      },
      "execution_count": null,
      "outputs": [
        {
          "output_type": "execute_result",
          "data": {
            "text/plain": [
              "array([80, 87, 89, 87, 78, 87, 76, 96, 80, 81, 89, 67, 87, 97, 73])"
            ]
          },
          "metadata": {},
          "execution_count": 8
        }
      ]
    },
    {
      "cell_type": "code",
      "source": [
        "#Q5 unique data\n",
        "unique_data=np.unique(new_data)\n",
        "unique_data"
      ],
      "metadata": {
        "colab": {
          "base_uri": "https://localhost:8080/"
        },
        "id": "47u3BA8EWZXV",
        "outputId": "c9ec3eea-23f1-45d8-f841-2a1fbec65f5c"
      },
      "execution_count": null,
      "outputs": [
        {
          "output_type": "execute_result",
          "data": {
            "text/plain": [
              "array([67, 73, 76, 78, 80, 81, 87, 89, 96, 97])"
            ]
          },
          "metadata": {},
          "execution_count": 9
        }
      ]
    },
    {
      "cell_type": "markdown",
      "source": [
        "Q6- Demonstrate how the same data can exist in different data types and how changes affect\n",
        "Q7- Show the difference between creating a full copy of an array and creating a view of the same data"
      ],
      "metadata": {
        "id": "oVZj-OJudAaZ"
      }
    },
    {
      "cell_type": "code",
      "source": [
        "#Q6 datatype changes\n",
        "print(unique_data.dtype)\n",
        "\n",
        "#Q7copy data\n",
        "copied_marks=np.copy(unique_data)\n",
        "print(copied_marks)\n",
        "#Q6 changing the data type\n",
        "copied_marks.astype(float)"
      ],
      "metadata": {
        "colab": {
          "base_uri": "https://localhost:8080/"
        },
        "id": "65AYP6EtWvBA",
        "outputId": "22d9421a-b22a-4e72-c5ac-6d74c68cc1c5"
      },
      "execution_count": null,
      "outputs": [
        {
          "output_type": "stream",
          "name": "stdout",
          "text": [
            "int64\n",
            "[67 73 76 78 80 81 87 89 96 97]\n"
          ]
        },
        {
          "output_type": "execute_result",
          "data": {
            "text/plain": [
              "array([67., 73., 76., 78., 80., 81., 87., 89., 96., 97.])"
            ]
          },
          "metadata": {},
          "execution_count": 10
        }
      ]
    }
  ]
}